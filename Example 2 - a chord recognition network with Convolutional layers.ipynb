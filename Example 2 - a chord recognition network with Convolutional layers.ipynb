{
 "cells": [
  {
   "cell_type": "markdown",
   "metadata": {},
   "source": [
    "# A very simple chord recognition convnet\n",
    "\n",
    "We're gonna use synthesize data and use CQT as representation. "
   ]
  },
  {
   "cell_type": "code",
   "execution_count": 1,
   "metadata": {
    "collapsed": false
   },
   "outputs": [
    {
     "name": "stderr",
     "output_type": "stream",
     "text": [
      "Using TensorFlow backend.\n",
      "/Users/gnu/anaconda/lib/python2.7/site-packages/pandas/core/computation/__init__.py:18: UserWarning: The installed version of numexpr 2.4.4 is not supported in pandas and will be not be used\n",
      "The minimum supported version is 2.4.6\n",
      "\n",
      "  ver=ver, min_ver=_MIN_NUMEXPR_VERSION), UserWarning)\n"
     ]
    }
   ],
   "source": [
    "%matplotlib inline\n",
    "import numpy as np\n",
    "import librosa\n",
    "import keras\n",
    "import keras.backend as K\n",
    "from matplotlib import pyplot as plt\n",
    "\n",
    "import warnings\n",
    "warnings.filterwarnings('ignore')"
   ]
  },
  {
   "cell_type": "markdown",
   "metadata": {},
   "source": [
    "### Utility function to generate data"
   ]
  },
  {
   "cell_type": "code",
   "execution_count": 2,
   "metadata": {
    "collapsed": true
   },
   "outputs": [],
   "source": [
    "def sin_wave(secs, freq, sr, gain):\n",
    "    '''\n",
    "    Generates a sine wave of frequency given by freq, with duration of secs.\n",
    "    '''\n",
    "    t = np.arange(sr * secs)\n",
    "    return gain * np.sin(2 * np.pi * freq * t / sr)\n",
    "\n",
    "\n",
    "def whitenoise(gain, shape):\n",
    "    '''\n",
    "    Generates white noise of duration given by secs\n",
    "    '''\n",
    "    return gain * np.random.uniform(-1., 1., shape)\n",
    "\n",
    "def chord_wave(secs, f0, sr, gain, major):\n",
    "    \"\"\"major: bool\"\"\"\n",
    "    t = np.arange(sr * secs)\n",
    "    sine_f0 = gain * np.sin(2 * np.pi * f0 * t / sr)\n",
    "    if major:\n",
    "        sine_third = gain * np.sin(2 * np.pi * f0 * 2. ** (4./12.) * t / sr)\n",
    "    else:\n",
    "        sine_third = gain * np.sin(2 * np.pi * f0 * 2. ** (3./12.) * t / sr)\n",
    "    return sine_f0 + sine_third"
   ]
  },
  {
   "cell_type": "code",
   "execution_count": 3,
   "metadata": {
    "collapsed": true
   },
   "outputs": [],
   "source": [
    "def add_channel_axis(cqt):\n",
    "    if K.image_data_format == 'channels_first':\n",
    "        return cqt[np.newaxis, :, :]\n",
    "    else:\n",
    "        return cqt[:, :, np.newaxis]"
   ]
  },
  {
   "cell_type": "code",
   "execution_count": 4,
   "metadata": {
    "collapsed": true
   },
   "outputs": [],
   "source": [
    "class DataGen:\n",
    "    def __init__(self, sr=16000, batch_size=128):\n",
    "        np.random.seed(1209)\n",
    "        self.pitches = [440., 466.2, 493.8, 523.3, 554.4, 587.3,\n",
    "                        622.3, 659.3, 698.5, 740., 784.0, 830.6]\n",
    "\n",
    "        self.sr = sr\n",
    "        self.n_class = 2 # major or minor\n",
    "        self.secs = 1.\n",
    "        self.batch_size = batch_size\n",
    "        self.labels = np.eye(self.n_class)[range(0, self.n_class)]  # 1-hot-vectors\n",
    "    \n",
    "        self.major_cqts = []\n",
    "        self.minor_cqts = []\n",
    "        \n",
    "        for freq in self.pitches:\n",
    "            cqt = librosa.cqt(chord_wave(self.secs, freq, self.sr, gain=0.5, major=True), sr=sr,\n",
    "                              fmin=220, n_bins=36, filter_scale=2)[:, 2:5]  # use three frames!\n",
    "            cqt = librosa.amplitude_to_db(cqt, ref=np.min)\n",
    "            cqt = cqt / np.max(cqt) # cqt in 2d\n",
    "            \n",
    "            self.major_cqts.append(add_channel_axis(cqt))\n",
    "            \n",
    "            cqt = librosa.cqt(chord_wave(self.secs, freq, self.sr, gain=0.5, major=False), sr=sr,\n",
    "                              fmin=220, n_bins=36, filter_scale=2)[:, 2:5]  # use three frame!\n",
    "            cqt = librosa.amplitude_to_db(cqt, ref=np.min)\n",
    "            cqt = cqt / np.max(cqt)\n",
    "            self.minor_cqts.append(add_channel_axis(cqt))\n",
    "\n",
    "        self.cqt_shape = add_channel_axis(cqt).shape  # (1, 36, 3) or (36, 3, 1)\n",
    "\n",
    "    def next(self): \n",
    "        \"\"\"Yielding half Major, half minor\"\"\"\n",
    "        choice = np.random.choice(12, size=self.batch_size // 2, # pick pitches for this batch\n",
    "                                  replace=True)\n",
    "        noise_gain = 0.1 * np.random.random_sample(1)  # a random noise gain \n",
    "        noise = whitenoise(noise_gain, self.cqt_shape)  # generate white noise\n",
    "        xs = [noise + self.major_cqts[i] for i in choice]  # compose a batch with additive noise (Major)\n",
    "        xs += [noise + self.minor_cqts[i] for i in choice]  # compose a batch with additive noise (minor)\n",
    "        \n",
    "        ys = np.eye(2)[np.hstack((np.zeros(self.batch_size // 2, dtype=np.int), \n",
    "                                  np.ones(self.batch_size // 2, dtype=np.int)))] # corresponding labels\n",
    "\n",
    "        return np.array(xs, dtype=np.float32), np.array(ys, dtype=np.float32)"
   ]
  },
  {
   "cell_type": "markdown",
   "metadata": {},
   "source": [
    "So, Major is labeled as [1, 0], and minor as [0, 1]."
   ]
  },
  {
   "cell_type": "markdown",
   "metadata": {},
   "source": [
    "## Experiment"
   ]
  },
  {
   "cell_type": "code",
   "execution_count": 5,
   "metadata": {
    "collapsed": false
   },
   "outputs": [],
   "source": [
    "datagen = DataGen()\n",
    "x, y = datagen.next()"
   ]
  },
  {
   "cell_type": "markdown",
   "metadata": {},
   "source": [
    "### How does input data look like?"
   ]
  },
  {
   "cell_type": "code",
   "execution_count": 6,
   "metadata": {
    "collapsed": false,
    "scrolled": true
   },
   "outputs": [
    {
     "data": {
      "image/png": "[encoded data removed]",
      "text/plain": [
       "<matplotlib.figure.Figure at 0x1199be6d0>"
      ]
     },
     "metadata": {},
     "output_type": "display_data"
    }
   ],
   "source": [
    "plt.figure(figsize=(14, 4))\n",
    "if K.image_data_format == 'channels_first':\n",
    "    for i in range(4):\n",
    "        plt.subplot(1, 10, i+1)\n",
    "        plt.imshow(x[i, 0], cmap=plt.get_cmap('Blues'))\n",
    "        plt.subplot(1, 10, 6+i)\n",
    "        plt.imshow(x[64 + i, 0], cmap=plt.get_cmap('Blues'))\n",
    "else:\n",
    "    for i in range(4):\n",
    "        plt.subplot(1, 10, i+1)\n",
    "        plt.imshow(x[i, :, :, 0], cmap=plt.get_cmap('Blues'))\n",
    "        plt.subplot(1, 10, 6+i)\n",
    "        plt.imshow(x[64 + i, :, :, 0], cmap=plt.get_cmap('Blues'))\n"
   ]
  },
  {
   "cell_type": "markdown",
   "metadata": {},
   "source": [
    "(Major inputs on left, minor inputs on right.)"
   ]
  },
  {
   "cell_type": "markdown",
   "metadata": {},
   "source": [
    "### Buld a convnet model!"
   ]
  },
  {
   "cell_type": "code",
   "execution_count": 7,
   "metadata": {
    "collapsed": true
   },
   "outputs": [],
   "source": [
    "val_datagen = DataGen() # this is a generator for validation set"
   ]
  },
  {
   "cell_type": "markdown",
   "metadata": {},
   "source": [
    "* This convlayer takes `(36, 3)` with single channel input.\n",
    "* The kernel size is (5, 3) so that it can cover the spectral patterns of major and minor chords."
   ]
  },
  {
   "cell_type": "code",
   "execution_count": 8,
   "metadata": {
    "collapsed": true
   },
   "outputs": [],
   "source": [
    "# even a simplet network -- one conv layer and that's it!\n",
    "# If you wanna try it. \n",
    "\n",
    "\n",
    "# model = keras.models.Sequential()\n",
    "# model.add(keras.layers.convolutional.Conv2D(datagen.n_class, (5, 3), use_bias=False, padding='same',\n",
    "#                              input_shape=datagen.cqt_shape)) # A conv2d layer (36 input nodes --> 8 output nodes)\n",
    "# model.add(keras.layers.pooling.GlobalMaxPooling2D())\n",
    "# model.add(keras.layers.Activation('softmax'))  # Softmax because it's single-label classification\n",
    "\n",
    "# model.compile(optimizer=keras.optimizers.SGD(lr=0.01, momentum=0.9,  # a pretty standard optimizer\n",
    "#                                              decay=1e-6, nesterov=True),\n",
    "#               loss='categorical_crossentropy',  # categorical crossentropy makes sense with Softmax\n",
    "#               metrics=['accuracy'])  # we'll also measure the performance but it's NOT a loss function  "
   ]
  },
  {
   "cell_type": "code",
   "execution_count": 9,
   "metadata": {
    "collapsed": false
   },
   "outputs": [],
   "source": [
    "np.random.seed(12345)\n",
    "model = keras.models.Sequential()\n",
    "model.add(keras.layers.convolutional.Conv2D(4, (5, 3), use_bias=False, padding='valid',\n",
    "                             input_shape=datagen.cqt_shape)) # A conv2d layer (36 input nodes --> 8 output nodes)\n",
    "model.add(keras.layers.pooling.GlobalMaxPooling2D())\n",
    "model.add(keras.layers.Activation('relu'))\n",
    "model.add(keras.layers.Dense(datagen.n_class, use_bias=False))\n",
    "model.add(keras.layers.Activation('softmax'))\n",
    "\n",
    "model.compile(optimizer=keras.optimizers.SGD(lr=0.01, momentum=0.9,  # a pretty standard optimizer\n",
    "                                             decay=1e-6, nesterov=True),\n",
    "              loss='categorical_crossentropy',  # categorical crossentropy makes sense with Softmax\n",
    "              metrics=['accuracy'])  # we'll also measure the performance but it's NOT a loss function  "
   ]
  },
  {
   "cell_type": "code",
   "execution_count": 10,
   "metadata": {
    "collapsed": false
   },
   "outputs": [
    {
     "name": "stdout",
     "output_type": "stream",
     "text": [
      "_________________________________________________________________\n",
      "Layer (type)                 Output Shape              Param #   \n",
      "=================================================================\n",
      "conv2d_1 (Conv2D)            (None, 32, 1, 4)          60        \n",
      "_________________________________________________________________\n",
      "global_max_pooling2d_1 (Glob (None, 4)                 0         \n",
      "_________________________________________________________________\n",
      "activation_1 (Activation)    (None, 4)                 0         \n",
      "_________________________________________________________________\n",
      "dense_1 (Dense)              (None, 2)                 8         \n",
      "_________________________________________________________________\n",
      "activation_2 (Activation)    (None, 2)                 0         \n",
      "=================================================================\n",
      "Total params: 68\n",
      "Trainable params: 68\n",
      "Non-trainable params: 0\n",
      "_________________________________________________________________\n"
     ]
    }
   ],
   "source": [
    "model.summary()"
   ]
  },
  {
   "cell_type": "markdown",
   "metadata": {},
   "source": [
    "### Train it!"
   ]
  },
  {
   "cell_type": "code",
   "execution_count": 11,
   "metadata": {
    "collapsed": false,
    "scrolled": true
   },
   "outputs": [
    {
     "name": "stdout",
     "output_type": "stream",
     "text": [
      "Epoch 1/100\n",
      "100/100 [==============================] - 0s - loss: 0.6720 - acc: 0.6387 - val_loss: 0.6337 - val_acc: 0.9004\n",
      "Epoch 2/100\n",
      "100/100 [==============================] - 0s - loss: 0.5632 - acc: 0.9853 - val_loss: 0.4632 - val_acc: 1.0000\n",
      "Epoch 3/100\n",
      "100/100 [==============================] - 0s - loss: 0.3368 - acc: 1.0000 - val_loss: 0.2189 - val_acc: 1.0000\n",
      "Epoch 4/100\n",
      "100/100 [==============================] - 0s - loss: 0.1512 - acc: 1.0000 - val_loss: 0.0993 - val_acc: 1.0000\n",
      "Epoch 5/100\n",
      "100/100 [==============================] - 0s - loss: 0.0759 - acc: 1.0000 - val_loss: 0.0561 - val_acc: 1.0000\n",
      "Epoch 6/100\n",
      "100/100 [==============================] - 0s - loss: 0.0462 - acc: 1.0000 - val_loss: 0.0372 - val_acc: 1.0000\n",
      "Epoch 7/100\n",
      "100/100 [==============================] - 0s - loss: 0.0315 - acc: 1.0000 - val_loss: 0.0250 - val_acc: 1.0000\n",
      "Epoch 8/100\n",
      "100/100 [==============================] - 0s - loss: 0.0247 - acc: 1.0000 - val_loss: 0.0227 - val_acc: 1.0000\n",
      "Epoch 9/100\n",
      "100/100 [==============================] - 0s - loss: 0.0185 - acc: 1.0000 - val_loss: 0.0158 - val_acc: 1.0000\n",
      "Epoch 10/100\n",
      "100/100 [==============================] - 0s - loss: 0.0156 - acc: 1.0000 - val_loss: 0.0144 - val_acc: 1.0000\n",
      "Epoch 11/100\n",
      "100/100 [==============================] - 0s - loss: 0.0130 - acc: 1.0000 - val_loss: 0.0103 - val_acc: 1.0000\n",
      "Epoch 12/100\n",
      "100/100 [==============================] - 0s - loss: 0.0109 - acc: 1.0000 - val_loss: 0.0091 - val_acc: 1.0000\n",
      "Epoch 13/100\n",
      "100/100 [==============================] - 0s - loss: 0.0099 - acc: 1.0000 - val_loss: 0.0107 - val_acc: 1.0000\n",
      "Epoch 14/100\n",
      "100/100 [==============================] - 0s - loss: 0.0089 - acc: 1.0000 - val_loss: 0.0085 - val_acc: 1.0000\n",
      "Epoch 15/100\n",
      "100/100 [==============================] - 0s - loss: 0.0080 - acc: 1.0000 - val_loss: 0.0073 - val_acc: 1.0000\n",
      "Epoch 16/100\n",
      "100/100 [==============================] - 0s - loss: 0.0073 - acc: 1.0000 - val_loss: 0.0059 - val_acc: 1.0000\n",
      "Epoch 17/100\n",
      "100/100 [==============================] - 0s - loss: 0.0063 - acc: 1.0000 - val_loss: 0.0057 - val_acc: 1.0000\n",
      "Epoch 18/100\n",
      "100/100 [==============================] - 0s - loss: 0.0062 - acc: 1.0000 - val_loss: 0.0067 - val_acc: 1.0000\n",
      "Epoch 19/100\n",
      "100/100 [==============================] - 0s - loss: 0.0055 - acc: 1.0000 - val_loss: 0.0048 - val_acc: 1.0000\n",
      "Epoch 20/100\n",
      "100/100 [==============================] - 0s - loss: 0.0049 - acc: 1.0000 - val_loss: 0.0063 - val_acc: 1.0000\n",
      "Epoch 21/100\n",
      "100/100 [==============================] - 0s - loss: 0.0052 - acc: 1.0000 - val_loss: 0.0040 - val_acc: 1.0000\n",
      "Epoch 22/100\n",
      "100/100 [==============================] - 0s - loss: 0.0044 - acc: 1.0000 - val_loss: 0.0033 - val_acc: 1.0000\n",
      "Epoch 23/100\n",
      "100/100 [==============================] - 0s - loss: 0.0040 - acc: 1.0000 - val_loss: 0.0032 - val_acc: 1.0000\n",
      "Epoch 24/100\n",
      "100/100 [==============================] - 0s - loss: 0.0040 - acc: 1.0000 - val_loss: 0.0043 - val_acc: 1.0000\n",
      "Epoch 25/100\n",
      "100/100 [==============================] - 0s - loss: 0.0038 - acc: 1.0000 - val_loss: 0.0038 - val_acc: 1.0000\n",
      "Epoch 26/100\n",
      "100/100 [==============================] - 0s - loss: 0.0034 - acc: 1.0000 - val_loss: 0.0025 - val_acc: 1.0000\n",
      "Epoch 27/100\n",
      "100/100 [==============================] - 0s - loss: 0.0036 - acc: 1.0000 - val_loss: 0.0031 - val_acc: 1.0000\n",
      "Epoch 28/100\n",
      "100/100 [==============================] - 0s - loss: 0.0032 - acc: 1.0000 - val_loss: 0.0027 - val_acc: 1.0000\n",
      "Epoch 29/100\n",
      "100/100 [==============================] - 0s - loss: 0.0030 - acc: 1.0000 - val_loss: 0.0024 - val_acc: 1.0000\n",
      "Epoch 30/100\n",
      "100/100 [==============================] - 0s - loss: 0.0031 - acc: 1.0000 - val_loss: 0.0021 - val_acc: 1.0000\n",
      "Epoch 31/100\n",
      "100/100 [==============================] - 0s - loss: 0.0030 - acc: 1.0000 - val_loss: 0.0043 - val_acc: 1.0000\n",
      "Epoch 32/100\n",
      "100/100 [==============================] - 0s - loss: 0.0026 - acc: 1.0000 - val_loss: 0.0032 - val_acc: 1.0000\n",
      "Epoch 33/100\n",
      "100/100 [==============================] - 0s - loss: 0.0024 - acc: 1.0000 - val_loss: 0.0037 - val_acc: 1.0000\n",
      "Epoch 34/100\n",
      "100/100 [==============================] - 0s - loss: 0.0025 - acc: 1.0000 - val_loss: 0.0026 - val_acc: 1.0000\n",
      "Epoch 35/100\n",
      "100/100 [==============================] - 0s - loss: 0.0024 - acc: 1.0000 - val_loss: 0.0024 - val_acc: 1.0000\n",
      "Epoch 36/100\n",
      "100/100 [==============================] - 0s - loss: 0.0021 - acc: 1.0000 - val_loss: 0.0018 - val_acc: 1.0000\n",
      "Epoch 37/100\n",
      "100/100 [==============================] - 0s - loss: 0.0021 - acc: 1.0000 - val_loss: 0.0019 - val_acc: 1.0000\n",
      "Epoch 38/100\n",
      "100/100 [==============================] - 0s - loss: 0.0021 - acc: 1.0000 - val_loss: 0.0023 - val_acc: 1.0000\n",
      "Epoch 39/100\n",
      "100/100 [==============================] - 0s - loss: 0.0019 - acc: 1.0000 - val_loss: 0.0015 - val_acc: 1.0000\n",
      "Epoch 40/100\n",
      "100/100 [==============================] - 0s - loss: 0.0020 - acc: 1.0000 - val_loss: 0.0018 - val_acc: 1.0000\n",
      "Epoch 41/100\n",
      "100/100 [==============================] - 0s - loss: 0.0022 - acc: 1.0000 - val_loss: 0.0015 - val_acc: 1.0000\n",
      "Epoch 42/100\n",
      "100/100 [==============================] - 0s - loss: 0.0021 - acc: 1.0000 - val_loss: 0.0015 - val_acc: 1.0000\n",
      "Epoch 43/100\n",
      "100/100 [==============================] - 0s - loss: 0.0018 - acc: 1.0000 - val_loss: 0.0017 - val_acc: 1.0000\n",
      "Epoch 44/100\n",
      "100/100 [==============================] - 0s - loss: 0.0018 - acc: 1.0000 - val_loss: 0.0021 - val_acc: 1.0000\n",
      "Epoch 45/100\n",
      "100/100 [==============================] - 0s - loss: 0.0019 - acc: 1.0000 - val_loss: 0.0015 - val_acc: 1.0000\n",
      "Epoch 46/100\n",
      "100/100 [==============================] - 0s - loss: 0.0019 - acc: 1.0000 - val_loss: 0.0014 - val_acc: 1.0000\n",
      "Epoch 47/100\n",
      "100/100 [==============================] - 0s - loss: 0.0018 - acc: 1.0000 - val_loss: 0.0014 - val_acc: 1.0000\n",
      "Epoch 48/100\n",
      "100/100 [==============================] - 0s - loss: 0.0016 - acc: 1.0000 - val_loss: 0.0013 - val_acc: 1.0000\n",
      "Epoch 49/100\n",
      "100/100 [==============================] - 0s - loss: 0.0017 - acc: 1.0000 - val_loss: 0.0021 - val_acc: 1.0000\n",
      "Epoch 50/100\n",
      "100/100 [==============================] - 0s - loss: 0.0016 - acc: 1.0000 - val_loss: 0.0012 - val_acc: 1.0000\n",
      "Epoch 51/100\n",
      "100/100 [==============================] - 0s - loss: 0.0017 - acc: 1.0000 - val_loss: 0.0013 - val_acc: 1.0000\n",
      "Epoch 52/100\n",
      "100/100 [==============================] - 0s - loss: 0.0017 - acc: 1.0000 - val_loss: 0.0019 - val_acc: 1.0000\n",
      "Epoch 53/100\n",
      "100/100 [==============================] - 0s - loss: 0.0016 - acc: 1.0000 - val_loss: 0.0014 - val_acc: 1.0000\n",
      "Epoch 54/100\n",
      "100/100 [==============================] - 0s - loss: 0.0014 - acc: 1.0000 - val_loss: 0.0010 - val_acc: 1.0000\n",
      "Epoch 55/100\n",
      "100/100 [==============================] - 0s - loss: 0.0014 - acc: 1.0000 - val_loss: 0.0012 - val_acc: 1.0000\n",
      "Epoch 56/100\n",
      "100/100 [==============================] - 0s - loss: 0.0015 - acc: 1.0000 - val_loss: 0.0013 - val_acc: 1.0000\n",
      "Epoch 57/100\n",
      "100/100 [==============================] - 0s - loss: 0.0012 - acc: 1.0000 - val_loss: 0.0012 - val_acc: 1.0000\n",
      "Epoch 58/100\n",
      "100/100 [==============================] - 0s - loss: 0.0013 - acc: 1.0000 - val_loss: 8.4317e-04 - val_acc: 1.0000\n",
      "Epoch 59/100\n",
      "100/100 [==============================] - 0s - loss: 0.0012 - acc: 1.0000 - val_loss: 0.0011 - val_acc: 1.0000\n",
      "Epoch 60/100\n",
      "100/100 [==============================] - 0s - loss: 0.0011 - acc: 1.0000 - val_loss: 0.0010 - val_acc: 1.0000\n",
      "Epoch 61/100\n",
      "100/100 [==============================] - 0s - loss: 0.0011 - acc: 1.0000 - val_loss: 9.2067e-04 - val_acc: 1.0000\n",
      "Epoch 62/100\n",
      "100/100 [==============================] - 0s - loss: 0.0010 - acc: 1.0000 - val_loss: 8.1308e-04 - val_acc: 1.0000\n",
      "Epoch 63/100\n",
      "100/100 [==============================] - 0s - loss: 0.0012 - acc: 1.0000 - val_loss: 0.0012 - val_acc: 1.0000\n",
      "Epoch 64/100\n",
      "100/100 [==============================] - 0s - loss: 0.0012 - acc: 1.0000 - val_loss: 0.0017 - val_acc: 1.0000\n",
      "Epoch 65/100\n",
      "100/100 [==============================] - 0s - loss: 9.9405e-04 - acc: 1.0000 - val_loss: 8.4340e-04 - val_acc: 1.0000\n",
      "Epoch 66/100\n",
      "100/100 [==============================] - 0s - loss: 0.0011 - acc: 1.0000 - val_loss: 0.0011 - val_acc: 1.0000\n",
      "Epoch 67/100\n",
      "100/100 [==============================] - 0s - loss: 9.9135e-04 - acc: 1.0000 - val_loss: 0.0015 - val_acc: 1.0000\n",
      "Epoch 68/100\n",
      "100/100 [==============================] - 0s - loss: 9.0876e-04 - acc: 1.0000 - val_loss: 7.5313e-04 - val_acc: 1.0000\n",
      "Epoch 69/100\n",
      "100/100 [==============================] - 0s - loss: 9.7704e-04 - acc: 1.0000 - val_loss: 8.0214e-04 - val_acc: 1.0000\n",
      "Epoch 70/100\n",
      "100/100 [==============================] - 0s - loss: 9.3957e-04 - acc: 1.0000 - val_loss: 7.1984e-04 - val_acc: 1.0000\n",
      "Epoch 71/100\n",
      "100/100 [==============================] - 0s - loss: 0.0012 - acc: 1.0000 - val_loss: 0.0012 - val_acc: 1.0000\n",
      "Epoch 72/100\n",
      "100/100 [==============================] - 0s - loss: 9.8385e-04 - acc: 1.0000 - val_loss: 8.3657e-04 - val_acc: 1.0000\n",
      "Epoch 73/100\n",
      "100/100 [==============================] - 0s - loss: 9.8486e-04 - acc: 1.0000 - val_loss: 5.3685e-04 - val_acc: 1.0000\n",
      "Epoch 74/100\n",
      "100/100 [==============================] - 0s - loss: 9.1324e-04 - acc: 1.0000 - val_loss: 0.0015 - val_acc: 1.0000\n",
      "Epoch 75/100\n",
      "100/100 [==============================] - 0s - loss: 8.7023e-04 - acc: 1.0000 - val_loss: 9.1055e-04 - val_acc: 1.0000\n",
      "Epoch 76/100\n",
      "100/100 [==============================] - 0s - loss: 8.8312e-04 - acc: 1.0000 - val_loss: 9.5169e-04 - val_acc: 1.0000\n",
      "Epoch 77/100\n",
      "100/100 [==============================] - 0s - loss: 9.1021e-04 - acc: 1.0000 - val_loss: 6.5630e-04 - val_acc: 1.0000\n",
      "Epoch 78/100\n",
      "100/100 [==============================] - 0s - loss: 9.1778e-04 - acc: 1.0000 - val_loss: 0.0011 - val_acc: 1.0000\n",
      "Epoch 79/100\n",
      "100/100 [==============================] - 0s - loss: 8.3930e-04 - acc: 1.0000 - val_loss: 5.9322e-04 - val_acc: 1.0000\n",
      "Epoch 80/100\n",
      "100/100 [==============================] - 0s - loss: 0.0011 - acc: 1.0000 - val_loss: 0.0011 - val_acc: 1.0000\n",
      "Epoch 81/100\n",
      "100/100 [==============================] - 0s - loss: 0.0011 - acc: 1.0000 - val_loss: 8.3612e-04 - val_acc: 1.0000\n",
      "Epoch 82/100\n",
      "100/100 [==============================] - 0s - loss: 8.5075e-04 - acc: 1.0000 - val_loss: 0.0013 - val_acc: 1.0000\n",
      "Epoch 83/100\n",
      "100/100 [==============================] - 0s - loss: 7.1350e-04 - acc: 1.0000 - val_loss: 0.0015 - val_acc: 1.0000\n",
      "Epoch 84/100\n",
      "100/100 [==============================] - 0s - loss: 9.1387e-04 - acc: 1.0000 - val_loss: 7.6505e-04 - val_acc: 1.0000\n",
      "Epoch 85/100\n",
      "100/100 [==============================] - 0s - loss: 9.6451e-04 - acc: 1.0000 - val_loss: 0.0025 - val_acc: 1.0000\n",
      "Epoch 86/100\n",
      "100/100 [==============================] - 0s - loss: 8.1832e-04 - acc: 1.0000 - val_loss: 5.6651e-04 - val_acc: 1.0000\n",
      "Epoch 87/100\n",
      "100/100 [==============================] - 0s - loss: 7.2781e-04 - acc: 1.0000 - val_loss: 0.0010 - val_acc: 1.0000\n",
      "Epoch 88/100\n",
      "100/100 [==============================] - 0s - loss: 8.0625e-04 - acc: 1.0000 - val_loss: 6.3334e-04 - val_acc: 1.0000\n",
      "Epoch 89/100\n",
      "100/100 [==============================] - 0s - loss: 7.6087e-04 - acc: 1.0000 - val_loss: 6.4656e-04 - val_acc: 1.0000\n",
      "Epoch 90/100\n",
      "100/100 [==============================] - 0s - loss: 7.5786e-04 - acc: 1.0000 - val_loss: 6.8113e-04 - val_acc: 1.0000\n",
      "Epoch 91/100\n",
      "100/100 [==============================] - 0s - loss: 8.1643e-04 - acc: 1.0000 - val_loss: 4.7783e-04 - val_acc: 1.0000\n",
      "Epoch 92/100\n",
      "100/100 [==============================] - 0s - loss: 7.5797e-04 - acc: 1.0000 - val_loss: 6.2071e-04 - val_acc: 1.0000\n",
      "Epoch 93/100\n",
      "100/100 [==============================] - 0s - loss: 7.6714e-04 - acc: 1.0000 - val_loss: 4.3379e-04 - val_acc: 1.0000\n",
      "Epoch 94/100\n",
      "100/100 [==============================] - 0s - loss: 9.7814e-04 - acc: 1.0000 - val_loss: 0.0024 - val_acc: 1.0000\n",
      "Epoch 95/100\n",
      "100/100 [==============================] - 0s - loss: 8.0752e-04 - acc: 1.0000 - val_loss: 5.3576e-04 - val_acc: 1.0000\n",
      "Epoch 96/100\n",
      "100/100 [==============================] - 0s - loss: 7.6372e-04 - acc: 1.0000 - val_loss: 6.8184e-04 - val_acc: 1.0000\n",
      "Epoch 97/100\n",
      "100/100 [==============================] - 0s - loss: 6.7852e-04 - acc: 1.0000 - val_loss: 3.9996e-04 - val_acc: 1.0000\n",
      "Epoch 98/100\n",
      "100/100 [==============================] - 0s - loss: 6.5877e-04 - acc: 1.0000 - val_loss: 6.1557e-04 - val_acc: 1.0000\n",
      "Epoch 99/100\n",
      "100/100 [==============================] - 0s - loss: 6.7418e-04 - acc: 1.0000 - val_loss: 4.2036e-04 - val_acc: 1.0000\n",
      "Epoch 100/100\n",
      "100/100 [==============================] - 0s - loss: 6.0691e-04 - acc: 1.0000 - val_loss: 4.3382e-04 - val_acc: 1.0000\n"
     ]
    }
   ],
   "source": [
    "history = model.fit_generator(datagen, steps_per_epoch=100, epochs=100, verbose=1,\n",
    "                             validation_data=val_datagen, validation_steps=4)"
   ]
  },
  {
   "cell_type": "code",
   "execution_count": 12,
   "metadata": {
    "collapsed": false
   },
   "outputs": [
    {
     "data": {
      "text/plain": [
       "<matplotlib.legend.Legend at 0x119bcacd0>"
      ]
     },
     "execution_count": 12,
     "metadata": {},
     "output_type": "execute_result"
    },
    {
     "data": {
      "image/png": "[encoded data removed]",
      "text/plain": [
       "<matplotlib.figure.Figure at 0x119ad9850>"
      ]
     },
     "metadata": {},
     "output_type": "display_data"
    }
   ],
   "source": [
    "plt.figure(figsize=(12, 4))\n",
    "plt.subplot(1, 2, 1)\n",
    "plt.plot(history.history['acc'], label='training')\n",
    "plt.plot(history.history['val_acc'], label='validation', alpha=0.7)\n",
    "plt.title('Accuracy')\n",
    "plt.xlabel('epoch')\n",
    "plt.legend()\n",
    "plt.subplot(1, 2, 2)\n",
    "plt.plot(history.history['loss'], label='training')\n",
    "plt.plot(history.history['val_loss'], label='validation', alpha=0.7)\n",
    "plt.title('Loss')\n",
    "plt.xlabel('epoch')\n",
    "plt.legend()"
   ]
  },
  {
   "cell_type": "code",
   "execution_count": 13,
   "metadata": {
    "collapsed": false
   },
   "outputs": [
    {
     "name": "stdout",
     "output_type": "stream",
     "text": [
      "loss: 0.000604408510844, accuracy: 1.0\n"
     ]
    }
   ],
   "source": [
    "loss = model.evaluate_generator(datagen, steps=10)\n",
    "print(\"loss: {}, accuracy: {}\".format(loss[0], loss[1]))"
   ]
  },
  {
   "cell_type": "code",
   "execution_count": 14,
   "metadata": {
    "collapsed": false
   },
   "outputs": [
    {
     "name": "stdout",
     "output_type": "stream",
     "text": [
      "The Convolution2D layer weights shape is: (5, 3, 1, 4)\n"
     ]
    }
   ],
   "source": [
    "weights = model.get_weights()[0]\n",
    "print(\"The Convolution2D layer weights shape is: {}\".format(weights.shape))"
   ]
  },
  {
   "cell_type": "markdown",
   "metadata": {},
   "source": [
    ", which is (height_kernel, width_kernel, input_channel_number, output_channel_number)"
   ]
  },
  {
   "cell_type": "markdown",
   "metadata": {},
   "source": [
    "# Understanding by visualising"
   ]
  },
  {
   "cell_type": "markdown",
   "metadata": {},
   "source": [
    "## Visualising the kernels"
   ]
  },
  {
   "cell_type": "code",
   "execution_count": 48,
   "metadata": {
    "collapsed": false
   },
   "outputs": [
    {
     "data": {
      "image/png": "[encoded data removed]",
      "text/plain": [
       "<matplotlib.figure.Figure at 0x11bc18890>"
      ]
     },
     "metadata": {},
     "output_type": "display_data"
    }
   ],
   "source": [
    "plt.figure(figsize=(20, 4))\n",
    "titles = ['minor chord positive', 'minor chord negative?', 'wth??', 'minor chord positive']\n",
    "for i in range(4):\n",
    "    plt.subplot(1, 4, i+1)\n",
    "    plt.imshow(weights[:, :, 0, i], cmap=plt.get_cmap('Blues'))\n",
    "    plt.colorbar()\n",
    "    plt.title(titles[i])"
   ]
  },
  {
   "cell_type": "markdown",
   "metadata": {},
   "source": [
    "Okay, so out of four kernels, the 1st and 4th are definitely minor chord positive. Not sure for the other two.\n",
    "\n",
    "## Visualising the feature maps\n",
    "\n",
    "which is `conv(input, kernel)`."
   ]
  },
  {
   "cell_type": "code",
   "execution_count": 58,
   "metadata": {
    "collapsed": true
   },
   "outputs": [],
   "source": [
    "x_major = np.squeeze(x[0])\n",
    "x_minor = np.squeeze(x[-1])\n",
    "from scipy import signal\n",
    "def plot_convolution(x, kernels):\n",
    "    \"\"\"kernels: 3d, (height, width, channel) and four channels.\"\"\"\n",
    "    n_kernels = kernels.shape[2]\n",
    "    plt.figure(figsize=(6, 3))\n",
    "    plt.subplot(1, n_kernels+1, 1)\n",
    "    plt.imshow(x)\n",
    "    plt.title('Input x')\n",
    "    for idx in range(n_kernels):\n",
    "        plt.subplot(1, n_kernels+1, idx+2)\n",
    "        conved = signal.convolve2d(x, kernels[:, :, idx], mode='same')\n",
    "        plt.imshow(conved)\n",
    "        plt.title('max: {:4.2f}'.format(np.max(conved)))"
   ]
  },
  {
   "cell_type": "code",
   "execution_count": 59,
   "metadata": {
    "collapsed": false
   },
   "outputs": [
    {
     "name": "stdout",
     "output_type": "stream",
     "text": [
      "Here's the feature map activation for a Major chord input\n"
     ]
    },
    {
     "data": {
      "image/png": "[encoded data removed]",
      "text/plain": [
       "<matplotlib.figure.Figure at 0x11d2da1d0>"
      ]
     },
     "metadata": {},
     "output_type": "display_data"
    }
   ],
   "source": [
    "plot_convolution(x_major, weights[:, :, 0, :])\n",
    "print(\"Here's the feature map activation for a Major chord input\")"
   ]
  },
  {
   "cell_type": "code",
   "execution_count": 60,
   "metadata": {
    "collapsed": false
   },
   "outputs": [
    {
     "name": "stdout",
     "output_type": "stream",
     "text": [
      "Here's for a minor chord input\n"
     ]
    },
    {
     "data": {
      "image/png": "[encoded data removed]",
      "text/plain": [
       "<matplotlib.figure.Figure at 0x11d6cae50>"
      ]
     },
     "metadata": {},
     "output_type": "display_data"
    }
   ],
   "source": [
    "plot_convolution(x_minor, weights[:, :, 0, :])\n",
    "print(\"Here's for a minor chord input\")"
   ]
  },
  {
   "cell_type": "markdown",
   "metadata": {},
   "source": [
    "The 1st and 4th probably are most distinctive kernels. Now Let's move to the dense layer weights.\n",
    "\n",
    "## Dense layer weights"
   ]
  },
  {
   "cell_type": "code",
   "execution_count": 61,
   "metadata": {
    "collapsed": false
   },
   "outputs": [
    {
     "name": "stdout",
     "output_type": "stream",
     "text": [
      "[[-0.49479741  2.32843733]\n",
      " [ 2.9154563  -3.87876177]\n",
      " [-0.61376089 -0.32271883]\n",
      " [-3.05479431  3.24747348]]\n"
     ]
    }
   ],
   "source": [
    "dense_weights = model.get_weights()[1]\n",
    "print(dense_weights)"
   ]
  },
  {
   "cell_type": "markdown",
   "metadata": {},
   "source": [
    "Look at the dense layer weights! Each row-->input, each column-->output. \n",
    "\n",
    "1. The 1st feature map will have an high activation on minor chords. \n",
    "  - After global maxpooling, this feature map will have large value on minor chord input, and small value on Major chord input. \n",
    "  - The value is multiplied to `-0.496` on the Major output node, and `2.33` on the minor output node. \n",
    "  - Seems alright, huh?\n",
    "\n",
    "2. The 2nd feature map will have a large negative activation on minor chord.\n",
    "\n",
    "3. Not sure what this kernel is doing. `[-0.6, -0.3]` weights also say this kernel is not too crucial.\n",
    "\n",
    "4. The 4th is minor chord positive. `[-3.05, 3.25` supports it again."
   ]
  },
  {
   "cell_type": "code",
   "execution_count": null,
   "metadata": {
    "collapsed": true
   },
   "outputs": [],
   "source": []
  }
 ],
 "metadata": {
  "kernelspec": {
   "display_name": "Python 2",
   "language": "python",
   "name": "python2"
  },
  "language_info": {
   "codemirror_mode": {
    "name": "ipython",
    "version": 2
   },
   "file_extension": ".py",
   "mimetype": "text/x-python",
   "name": "python",
   "nbconvert_exporter": "python",
   "pygments_lexer": "ipython2",
   "version": "2.7.11"
  }
 },
 "nbformat": 4,
 "nbformat_minor": 0
}
